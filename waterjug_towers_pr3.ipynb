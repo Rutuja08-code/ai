{
  "nbformat": 4,
  "nbformat_minor": 0,
  "metadata": {
    "colab": {
      "provenance": []
    },
    "kernelspec": {
      "name": "python3",
      "display_name": "Python 3"
    },
    "language_info": {
      "name": "python"
    }
  },
  "cells": [
    {
      "cell_type": "code",
      "execution_count": null,
      "metadata": {
        "id": "55a5qHSRXXj2"
      },
      "outputs": [],
      "source": [
        "import heapq"
      ]
    },
    {
      "cell_type": "code",
      "source": [
        "# -------------------------\n",
        "# Water Jug Problem\n",
        "# -------------------------\n",
        "\n",
        "def water_jug(x, y, d):\n",
        "    visited = set()\n",
        "    queue = [(0, 0)]  # Initial state (jug1, jug2)\n",
        "\n",
        "    while queue:\n",
        "        a, b = queue.pop(0)\n",
        "\n",
        "        if a == d or b == d:\n",
        "            print(f\"Solution found: Jug1 = {a}, Jug2 = {b}\")\n",
        "            return\n",
        "\n",
        "        if (a, b) in visited:\n",
        "            continue\n",
        "\n",
        "        visited.add((a, b))\n",
        "\n",
        "        # Possible actions\n",
        "        queue.append((x, b))  # Fill Jug1\n",
        "        queue.append((a, y))  # Fill Jug2\n",
        "        queue.append((0, b))  # Empty Jug1\n",
        "        queue.append((a, 0))  # Empty Jug2\n",
        "        queue.append((a - min(a, y - b), b + min(a, y - b)))  # Jug1 -> Jug2\n",
        "        queue.append((a + min(b, x - a), b - min(b, x - a)))  # Jug2 -> Jug1\n",
        "\n",
        "    print(\"No solution found\")"
      ],
      "metadata": {
        "id": "OZWw-ZomXYSP"
      },
      "execution_count": null,
      "outputs": []
    },
    {
      "cell_type": "code",
      "source": [
        "# -------------------------\n",
        "# Towers of Hanoi Problem\n",
        "# -------------------------\n",
        "\n",
        "def towers_of_hanoi(n, source, target, auxiliary):\n",
        "    if n == 1:\n",
        "        print(f\"Move disk 1 from {source} to {target}\")\n",
        "        return\n",
        "    towers_of_hanoi(n - 1, source, auxiliary, target)\n",
        "    print(f\"Move disk {n} from {source} to {target}\")\n",
        "    towers_of_hanoi(n - 1, auxiliary, target, source)"
      ],
      "metadata": {
        "id": "U-GXWQpBXbBF"
      },
      "execution_count": null,
      "outputs": []
    },
    {
      "cell_type": "code",
      "source": [
        "# -------------------------\n",
        "# Main Program\n",
        "# -------------------------\n",
        "\n",
        "print(\"Water Jug Problem (4, 3, 2):\")\n",
        "water_jug(4, 3, 2)  # Solve Water Jug Problem for 4L, 3L jugs, and 2L target\n",
        "\n",
        "print(\"\\nTowers of Hanoi (3 disks):\")\n",
        "towers_of_hanoi(3, 'A', 'C', 'B')  # Solve Towers of Hanoi with 3 disks (A to C, using B)"
      ],
      "metadata": {
        "colab": {
          "base_uri": "https://localhost:8080/"
        },
        "id": "43nMZzgpXey7",
        "outputId": "b9d402d7-d412-4b18-eded-84169daee6ff"
      },
      "execution_count": null,
      "outputs": [
        {
          "output_type": "stream",
          "name": "stdout",
          "text": [
            "Water Jug Problem (4, 3, 2):\n",
            "Solution found: Jug1 = 4, Jug2 = 2\n",
            "\n",
            "Towers of Hanoi (3 disks):\n",
            "Move disk 1 from A to C\n",
            "Move disk 2 from A to B\n",
            "Move disk 1 from C to B\n",
            "Move disk 3 from A to C\n",
            "Move disk 1 from B to A\n",
            "Move disk 2 from B to C\n",
            "Move disk 1 from A to C\n"
          ]
        }
      ]
    },
    {
      "cell_type": "code",
      "source": [],
      "metadata": {
        "id": "yDawj-uFXiwl"
      },
      "execution_count": null,
      "outputs": []
    }
  ]
}