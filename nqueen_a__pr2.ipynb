{
  "nbformat": 4,
  "nbformat_minor": 0,
  "metadata": {
    "colab": {
      "provenance": []
    },
    "kernelspec": {
      "name": "python3",
      "display_name": "Python 3"
    },
    "language_info": {
      "name": "python"
    }
  },
  "cells": [
    {
      "cell_type": "code",
      "execution_count": null,
      "metadata": {
        "id": "tIrj8H-hVkZ4"
      },
      "outputs": [],
      "source": [
        "import heapq"
      ]
    },
    {
      "cell_type": "code",
      "source": [
        "def conflicts(state):\n",
        "    c = 0\n",
        "    for i in range(len(state)):\n",
        "        for j in range(i + 1, len(state)):\n",
        "            if state[i] == state[j] or abs(state[i] - state[j]) == abs(i - j):\n",
        "                c += 1\n",
        "    return c"
      ],
      "metadata": {
        "id": "9eivL8U5VlIL"
      },
      "execution_count": null,
      "outputs": []
    },
    {
      "cell_type": "code",
      "source": [
        "def a_star_n_queens(n):\n",
        "    heap = []\n",
        "    heapq.heappush(heap, (0, []))  # (f, state)\n",
        "\n",
        "    while heap:\n",
        "        f, state = heapq.heappop(heap)\n",
        "        row = len(state)\n",
        "        if row == n:\n",
        "            return state\n",
        "\n",
        "        for col in range(n):\n",
        "            new_state = state + [col]\n",
        "            h = conflicts(new_state)\n",
        "            heapq.heappush(heap, (row + h, new_state))\n",
        "\n",
        "    return None"
      ],
      "metadata": {
        "id": "dKikxr5NVpdN"
      },
      "execution_count": null,
      "outputs": []
    },
    {
      "cell_type": "code",
      "source": [
        "def print_board(state):\n",
        "    for row in state:\n",
        "        print(' '.join('Q' if i == row else '.' for i in range(len(state))))\n",
        "    print()"
      ],
      "metadata": {
        "id": "mdMXhV1UVr2w"
      },
      "execution_count": null,
      "outputs": []
    },
    {
      "cell_type": "code",
      "source": [
        "# Run the solver\n",
        "n = 8\n",
        "solution = a_star_n_queens(n)"
      ],
      "metadata": {
        "id": "LLlvofB0Vu13"
      },
      "execution_count": null,
      "outputs": []
    },
    {
      "cell_type": "code",
      "source": [
        "if solution:\n",
        "    print(\" A* Solution:\")\n",
        "    print_board(solution)\n",
        "else:\n",
        "    print(\" No solution found.\")"
      ],
      "metadata": {
        "colab": {
          "base_uri": "https://localhost:8080/"
        },
        "id": "bRW0ZYMQVx0x",
        "outputId": "397dd149-9c44-4ae0-835d-8136e10d4cfc"
      },
      "execution_count": null,
      "outputs": [
        {
          "output_type": "stream",
          "name": "stdout",
          "text": [
            " A* Solution:\n",
            "Q . . . . . . .\n",
            ". . . . Q . . .\n",
            ". . . . . . . Q\n",
            ". . . . . Q . .\n",
            ". . Q . . . . .\n",
            ". . . . . . Q .\n",
            ". Q . . . . . .\n",
            ". . . Q . . . .\n",
            "\n"
          ]
        }
      ]
    },
    {
      "cell_type": "code",
      "source": [],
      "metadata": {
        "id": "19BwvwHdV2Cl"
      },
      "execution_count": null,
      "outputs": []
    }
  ]
}