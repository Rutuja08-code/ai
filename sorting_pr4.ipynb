{
  "nbformat": 4,
  "nbformat_minor": 0,
  "metadata": {
    "colab": {
      "provenance": []
    },
    "kernelspec": {
      "name": "python3",
      "display_name": "Python 3"
    },
    "language_info": {
      "name": "python"
    }
  },
  "cells": [
    {
      "cell_type": "code",
      "execution_count": null,
      "metadata": {
        "id": "LNkw8hRlYBuy"
      },
      "outputs": [],
      "source": [
        "# --------------------------\n",
        "# Sorting Algorithms\n",
        "# --------------------------\n",
        "\n",
        "# Bubble Sort\n",
        "def bubble_sort(arr):\n",
        "    n = len(arr)\n",
        "    for i in range(n):\n",
        "        for j in range(0, n-i-1):\n",
        "            if arr[j] > arr[j+1]:\n",
        "                arr[j], arr[j+1] = arr[j+1], arr[j]  # Swap if greater\n",
        "    return arr\n"
      ]
    },
    {
      "cell_type": "code",
      "source": [
        "\n",
        "# Selection Sort\n",
        "def selection_sort(arr):\n",
        "    n = len(arr)\n",
        "    for i in range(n):\n",
        "        min_idx = i\n",
        "        for j in range(i+1, n):\n",
        "            if arr[j] < arr[min_idx]:\n",
        "                min_idx = j\n",
        "        arr[i], arr[min_idx] = arr[min_idx], arr[i]  # Swap the found minimum element\n",
        "    return arr\n",
        "\n"
      ],
      "metadata": {
        "id": "uxXOj855YZ8F"
      },
      "execution_count": null,
      "outputs": []
    },
    {
      "cell_type": "code",
      "source": [
        "# Insertion Sort\n",
        "def insertion_sort(arr):\n",
        "    for i in range(1, len(arr)):\n",
        "        key = arr[i]\n",
        "        j = i - 1\n",
        "        while j >= 0 and key < arr[j]:\n",
        "            arr[j + 1] = arr[j]  # Shift element to the right\n",
        "            j -= 1\n",
        "        arr[j + 1] = key  # Place the key in the correct position\n",
        "    return arr\n",
        "\n"
      ],
      "metadata": {
        "id": "ZBpcvsFYYr4f"
      },
      "execution_count": null,
      "outputs": []
    },
    {
      "cell_type": "code",
      "source": [
        "\n",
        "arr = [64, 25, 12, 22, 11]\n",
        "\n",
        "print(\"Original Array:\", arr)\n",
        "\n",
        "print(\"\\nBubble Sort Result:\", bubble_sort(arr.copy()))\n",
        "\n",
        "print(\"\\nSelection Sort Result:\", selection_sort(arr.copy()))\n",
        "\n",
        "print(\"\\nInsertion Sort Result:\", insertion_sort(arr.copy()))"
      ],
      "metadata": {
        "colab": {
          "base_uri": "https://localhost:8080/"
        },
        "id": "BD6Xi483Ywq4",
        "outputId": "74997b0c-cf34-4a8d-e13d-f2e02d25738d"
      },
      "execution_count": null,
      "outputs": [
        {
          "output_type": "stream",
          "name": "stdout",
          "text": [
            "Original Array: [64, 25, 12, 22, 11]\n",
            "\n",
            "Bubble Sort Result: [11, 12, 22, 25, 64]\n",
            "\n",
            "Selection Sort Result: [11, 12, 22, 25, 64]\n",
            "\n",
            "Insertion Sort Result: [11, 12, 22, 25, 64]\n"
          ]
        }
      ]
    },
    {
      "cell_type": "code",
      "source": [],
      "metadata": {
        "id": "iTqqa1svYxr1"
      },
      "execution_count": null,
      "outputs": []
    }
  ]
}