{
  "nbformat": 4,
  "nbformat_minor": 0,
  "metadata": {
    "colab": {
      "provenance": []
    },
    "kernelspec": {
      "name": "python3",
      "display_name": "Python 3"
    },
    "language_info": {
      "name": "python"
    }
  },
  "cells": [
    {
      "cell_type": "code",
      "execution_count": null,
      "metadata": {
        "id": "mskK9328Q-MN"
      },
      "outputs": [],
      "source": [
        "distance = [\n",
        "    [0, 29, 20, 21],\n",
        "    [29, 0, 15, 17],\n",
        "    [20, 15, 0, 28],\n",
        "    [21, 17, 28, 0]\n",
        "]"
      ]
    },
    {
      "cell_type": "code",
      "source": [
        "def tsp_nearest_neighbor(distance, start=0):\n",
        "    n = len(distance)  # This defines the number of cities\n",
        "    visited = [False] * n\n",
        "    path = [start]\n",
        "    total_cost = 0\n",
        "    current = start\n",
        "    visited[start] = True\n",
        "\n",
        "    for _ in range(n - 1):\n",
        "        nearest = -1\n",
        "        min_dist = float('inf')  # Use infinity for comparison\n",
        "\n",
        "        for j in range(n):\n",
        "            if not visited[j] and distance[current][j] < min_dist:\n",
        "                nearest = j\n",
        "                min_dist = distance[current][j]\n",
        "\n",
        "        visited[nearest] = True\n",
        "        path.append(nearest)\n",
        "        total_cost += min_dist\n",
        "        current = nearest\n",
        "\n",
        "    # Return to the starting city\n",
        "    total_cost += distance[current][start]\n",
        "    path.append(start)\n",
        "\n",
        "    return path, total_cost"
      ],
      "metadata": {
        "id": "Y5bsM1wyQ_7L"
      },
      "execution_count": null,
      "outputs": []
    },
    {
      "cell_type": "code",
      "source": [
        "# Call the function and display results\n",
        "tour, cost = tsp_nearest_neighbor(distance)\n",
        "print(\"Tour:\", tour)\n",
        "print(\"Total Cost:\", cost)"
      ],
      "metadata": {
        "colab": {
          "base_uri": "https://localhost:8080/"
        },
        "id": "14DMJn0BR8Iu",
        "outputId": "79f2561a-4f49-4f0a-deab-eab1fb971962"
      },
      "execution_count": null,
      "outputs": [
        {
          "output_type": "stream",
          "name": "stdout",
          "text": [
            "Tour: [0, 2, 1, 3, 0]\n",
            "Total Cost: 73\n"
          ]
        }
      ]
    }
  ]
}